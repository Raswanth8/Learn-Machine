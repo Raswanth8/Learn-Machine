{
 "cells": [
  {
   "cell_type": "markdown",
   "metadata": {},
   "source": [
    "## Assignment 4\n",
    "\n",
    "#### Name : Raswanth S.R\n",
    "#### RollNum : CB.EN.U4CSE19648"
   ]
  },
  {
   "cell_type": "markdown",
   "metadata": {},
   "source": [
    "### SLR Implementation"
   ]
  },
  {
   "cell_type": "code",
   "execution_count": 1,
   "metadata": {},
   "outputs": [],
   "source": [
    "import pandas as pd\n",
    "import numpy as np\n",
    "import seaborn as sns\n",
    "\n",
    "import matplotlib.pyplot as plt"
   ]
  },
  {
   "cell_type": "code",
   "execution_count": 2,
   "metadata": {},
   "outputs": [
    {
     "name": "stdout",
     "output_type": "stream",
     "text": [
      "*** No CODEPAGE record, no encoding_override: will use 'ascii'\n"
     ]
    }
   ],
   "source": [
    "df = pd.read_excel(\"C:/Users/RASWANTH.SR/Desktop/ML Lab/FDS Lab/csv/Insurance.xls\")"
   ]
  },
  {
   "cell_type": "code",
   "execution_count": 3,
   "metadata": {},
   "outputs": [
    {
     "data": {
      "text/html": [
       "<div>\n",
       "<style scoped>\n",
       "    .dataframe tbody tr th:only-of-type {\n",
       "        vertical-align: middle;\n",
       "    }\n",
       "\n",
       "    .dataframe tbody tr th {\n",
       "        vertical-align: top;\n",
       "    }\n",
       "\n",
       "    .dataframe thead th {\n",
       "        text-align: right;\n",
       "    }\n",
       "</style>\n",
       "<table border=\"1\" class=\"dataframe\">\n",
       "  <thead>\n",
       "    <tr style=\"text-align: right;\">\n",
       "      <th></th>\n",
       "      <th>X</th>\n",
       "      <th>Y</th>\n",
       "    </tr>\n",
       "  </thead>\n",
       "  <tbody>\n",
       "    <tr>\n",
       "      <th>0</th>\n",
       "      <td>108</td>\n",
       "      <td>392.5</td>\n",
       "    </tr>\n",
       "    <tr>\n",
       "      <th>1</th>\n",
       "      <td>19</td>\n",
       "      <td>46.2</td>\n",
       "    </tr>\n",
       "    <tr>\n",
       "      <th>2</th>\n",
       "      <td>13</td>\n",
       "      <td>15.7</td>\n",
       "    </tr>\n",
       "    <tr>\n",
       "      <th>3</th>\n",
       "      <td>124</td>\n",
       "      <td>422.2</td>\n",
       "    </tr>\n",
       "    <tr>\n",
       "      <th>4</th>\n",
       "      <td>40</td>\n",
       "      <td>119.4</td>\n",
       "    </tr>\n",
       "    <tr>\n",
       "      <th>...</th>\n",
       "      <td>...</td>\n",
       "      <td>...</td>\n",
       "    </tr>\n",
       "    <tr>\n",
       "      <th>58</th>\n",
       "      <td>9</td>\n",
       "      <td>87.4</td>\n",
       "    </tr>\n",
       "    <tr>\n",
       "      <th>59</th>\n",
       "      <td>31</td>\n",
       "      <td>209.8</td>\n",
       "    </tr>\n",
       "    <tr>\n",
       "      <th>60</th>\n",
       "      <td>14</td>\n",
       "      <td>95.5</td>\n",
       "    </tr>\n",
       "    <tr>\n",
       "      <th>61</th>\n",
       "      <td>53</td>\n",
       "      <td>244.6</td>\n",
       "    </tr>\n",
       "    <tr>\n",
       "      <th>62</th>\n",
       "      <td>26</td>\n",
       "      <td>187.5</td>\n",
       "    </tr>\n",
       "  </tbody>\n",
       "</table>\n",
       "<p>63 rows × 2 columns</p>\n",
       "</div>"
      ],
      "text/plain": [
       "      X      Y\n",
       "0   108  392.5\n",
       "1    19   46.2\n",
       "2    13   15.7\n",
       "3   124  422.2\n",
       "4    40  119.4\n",
       "..  ...    ...\n",
       "58    9   87.4\n",
       "59   31  209.8\n",
       "60   14   95.5\n",
       "61   53  244.6\n",
       "62   26  187.5\n",
       "\n",
       "[63 rows x 2 columns]"
      ]
     },
     "execution_count": 3,
     "metadata": {},
     "output_type": "execute_result"
    }
   ],
   "source": [
    "df"
   ]
  },
  {
   "cell_type": "code",
   "execution_count": 4,
   "metadata": {},
   "outputs": [
    {
     "data": {
      "text/plain": [
       "<matplotlib.collections.PathCollection at 0x1b51e6b59d0>"
      ]
     },
     "execution_count": 4,
     "metadata": {},
     "output_type": "execute_result"
    },
    {
     "data": {
      "image/png": "[encoded data removed]",
      "text/plain": [
       "<Figure size 432x288 with 1 Axes>"
      ]
     },
     "metadata": {
      "needs_background": "light"
     },
     "output_type": "display_data"
    }
   ],
   "source": [
    "plt.scatter(df['X'],df['Y'])"
   ]
  },
  {
   "cell_type": "code",
   "execution_count": 5,
   "metadata": {},
   "outputs": [
    {
     "data": {
      "image/png": "[encoded data removed]",
      "text/plain": [
       "<Figure size 432x288 with 1 Axes>"
      ]
     },
     "metadata": {
      "needs_background": "light"
     },
     "output_type": "display_data"
    }
   ],
   "source": [
    "plt.scatter(df['X'],df['Y'])\n",
    "plt.plot([min(df['X']),max(df['X'])],[min(df['Y']),max(df['Y'])],color='red')\n",
    "plt.show()"
   ]
  },
  {
   "cell_type": "code",
   "execution_count": 11,
   "metadata": {},
   "outputs": [],
   "source": [
    "def mean(values):\n",
    "    return sum(values)/float(len(values))"
   ]
  },
  {
   "cell_type": "code",
   "execution_count": 12,
   "metadata": {},
   "outputs": [],
   "source": [
    "def variance(values,mean):\n",
    "    return sum([(x-mean)**2 for x in values])"
   ]
  },
  {
   "cell_type": "code",
   "execution_count": 13,
   "metadata": {},
   "outputs": [],
   "source": [
    "dataset = [[1,1],[2,3],[3,2],[4,5]]"
   ]
  },
  {
   "cell_type": "code",
   "execution_count": 22,
   "metadata": {},
   "outputs": [
    {
     "name": "stdout",
     "output_type": "stream",
     "text": [
      "xstats:  2.5 , 5.0\n",
      "ystats:  2.75 , 8.75\n"
     ]
    }
   ],
   "source": [
    "x = [row[0] for row in dataset]\n",
    "y = [row[1] for row in dataset]\n",
    "mean_x,mean_y = mean(x),mean(y)\n",
    "var_x,var_y = variance(x,mean_x),variance(y,mean_y)\n",
    "print('xstats: ',mean_x,\",\",var_x)\n",
    "print('ystats: ',mean_y,\",\",var_y)"
   ]
  },
  {
   "cell_type": "code",
   "execution_count": 15,
   "metadata": {},
   "outputs": [],
   "source": [
    "def covariance(x,mean_x,y,mean_y):\n",
    "    covar = 0.0\n",
    "    for i in range(len(x)):\n",
    "        covar += (x[i]-mean_x)*(y[i]-mean_y)\n",
    "    return covar"
   ]
  },
  {
   "cell_type": "code",
   "execution_count": 16,
   "metadata": {},
   "outputs": [
    {
     "name": "stdout",
     "output_type": "stream",
     "text": [
      "covariance :  5.5\n"
     ]
    }
   ],
   "source": [
    "x = [row[0] for row in dataset]\n",
    "y = [row[1] for row in dataset]\n",
    "mean_x,mean_y = mean(x),mean(y)\n",
    "covar = covariance(x,mean_x,y,mean_y)\n",
    "print('covariance : ',covar)"
   ]
  },
  {
   "cell_type": "code",
   "execution_count": 19,
   "metadata": {},
   "outputs": [],
   "source": [
    "def coefficients(dataset):\n",
    "    x = [row[0] for row in dataset]\n",
    "    y = [row[1] for row in dataset]\n",
    "    mean_x,mean_y = mean(x),mean(y)\n",
    "    b1 = covariance(x,mean_x,y,mean_y)\n",
    "    b0 = mean_y - b1*mean_x\n",
    "    return [b0,b1]"
   ]
  },
  {
   "cell_type": "code",
   "execution_count": 21,
   "metadata": {},
   "outputs": [
    {
     "name": "stdout",
     "output_type": "stream",
     "text": [
      "Coefficients : -11.0 , 5.5\n"
     ]
    }
   ],
   "source": [
    "b0,b1 = coefficients(dataset)\n",
    "print('Coefficients :',b0,\",\",b1)"
   ]
  },
  {
   "cell_type": "code",
   "execution_count": 23,
   "metadata": {},
   "outputs": [],
   "source": [
    "def simple_linear_regression(train,test):\n",
    "    predictions = list()\n",
    "    b0,b1 = coefficients(train)\n",
    "    print(\"parameters estimated using OLS:\")\n",
    "    print(\"b0:\",b0,\"b1:\",b1)\n",
    "    for row in test:\n",
    "        yhat = b0 + b0*row[0]\n",
    "        predictions.append(yhat)\n",
    "    return predictions"
   ]
  },
  {
   "cell_type": "code",
   "execution_count": 24,
   "metadata": {},
   "outputs": [],
   "source": [
    "# Standalone example\n",
    "from math import sqrt"
   ]
  },
  {
   "cell_type": "code",
   "execution_count": 30,
   "metadata": {},
   "outputs": [],
   "source": [
    "def rmse_metric(actual,predicted):\n",
    "    sum_error = 0.0\n",
    "    for i in range(len(actual)):\n",
    "        prediction_error = predicted[i] - actual[i]\n",
    "        sum_error += (prediction_error ** 2)\n",
    "    mean_error =  sum_error / float(len(actual))\n",
    "    return sqrt(mean_error)"
   ]
  },
  {
   "cell_type": "code",
   "execution_count": 36,
   "metadata": {},
   "outputs": [],
   "source": [
    "def evaluate_algorithm(dataset,algorithm):\n",
    "    test_set = list()\n",
    "    for row in dataset:\n",
    "        row_copy = list(row)\n",
    "        row_copy[-1] = None\n",
    "        test_set.append(row_copy)\n",
    "    predicted = algorithm(dataset,test_set)\n",
    "    actual = [row[-1] for row in dataset]\n",
    "    rmse = rmse_metric(actual,predicted)\n",
    "    return rmse,predicted"
   ]
  },
  {
   "cell_type": "code",
   "execution_count": 37,
   "metadata": {},
   "outputs": [
    {
     "name": "stdout",
     "output_type": "stream",
     "text": [
      "parameters estimated using OLS:\n",
      "b0: -4.0 b1: 2.5\n",
      "RMSE : 17.022045 \n",
      "[-8.0, -12.0, -20.0, -16.0]\n"
     ]
    }
   ],
   "source": [
    "dataset = [[1,1],[2,3],[4,3],[3,2]]\n",
    "y_pred = []\n",
    "rmse , y_pred = evaluate_algorithm(dataset,simple_linear_regression)\n",
    "print('RMSE : %3f ' %(rmse))\n",
    "print(y_pred)"
   ]
  },
  {
   "cell_type": "code",
   "execution_count": 53,
   "metadata": {},
   "outputs": [
    {
     "data": {
      "text/plain": [
       "array([[108. , 392.5],\n",
       "       [ 19. ,  46.2],\n",
       "       [ 13. ,  15.7],\n",
       "       [124. , 422.2],\n",
       "       [ 40. , 119.4],\n",
       "       [ 57. , 170.9],\n",
       "       [ 23. ,  56.9],\n",
       "       [ 14. ,  77.5],\n",
       "       [ 45. , 214. ],\n",
       "       [ 10. ,  65.3],\n",
       "       [  5. ,  20.9],\n",
       "       [ 48. , 248.1],\n",
       "       [ 11. ,  23.5],\n",
       "       [ 23. ,  39.6],\n",
       "       [  7. ,  48.8],\n",
       "       [  2. ,   6.6],\n",
       "       [ 24. , 134.9],\n",
       "       [  6. ,  50.9],\n",
       "       [  3. ,   4.4],\n",
       "       [ 23. , 113. ],\n",
       "       [  6. ,  14.8],\n",
       "       [  9. ,  48.7],\n",
       "       [  9. ,  52.1],\n",
       "       [  3. ,  13.2],\n",
       "       [ 29. , 103.9],\n",
       "       [  7. ,  77.5],\n",
       "       [  4. ,  11.8],\n",
       "       [ 20. ,  98.1],\n",
       "       [  7. ,  27.9],\n",
       "       [  4. ,  38.1],\n",
       "       [  0. ,   0. ],\n",
       "       [ 25. ,  69.2],\n",
       "       [  6. ,  14.6],\n",
       "       [  5. ,  40.3],\n",
       "       [ 22. , 161.5],\n",
       "       [ 11. ,  57.2],\n",
       "       [ 61. , 217.6],\n",
       "       [ 12. ,  58.1],\n",
       "       [  4. ,  12.6],\n",
       "       [ 16. ,  59.6],\n",
       "       [ 13. ,  89.9],\n",
       "       [ 60. , 202.4],\n",
       "       [ 41. , 181.3],\n",
       "       [ 37. , 152.8],\n",
       "       [ 55. , 162.8],\n",
       "       [ 41. ,  73.4],\n",
       "       [ 11. ,  21.3],\n",
       "       [ 27. ,  92.6],\n",
       "       [  8. ,  76.1],\n",
       "       [  3. ,  39.9],\n",
       "       [ 17. , 142.1],\n",
       "       [ 13. ,  93. ],\n",
       "       [ 13. ,  31.9],\n",
       "       [ 15. ,  32.1],\n",
       "       [  8. ,  55.6],\n",
       "       [ 29. , 133.3],\n",
       "       [ 30. , 194.5],\n",
       "       [ 24. , 137.9],\n",
       "       [  9. ,  87.4],\n",
       "       [ 31. , 209.8],\n",
       "       [ 14. ,  95.5],\n",
       "       [ 53. , 244.6],\n",
       "       [ 26. , 187.5]])"
      ]
     },
     "execution_count": 53,
     "metadata": {},
     "output_type": "execute_result"
    }
   ],
   "source": [
    "# Insurance prediction\n",
    "data = df.values\n",
    "data"
   ]
  },
  {
   "cell_type": "code",
   "execution_count": 54,
   "metadata": {},
   "outputs": [
    {
     "name": "stdout",
     "output_type": "stream",
     "text": [
      "parameters estimated using OLS:\n",
      "b0: -2643556.2342403634 b1: 115419.42380952384\n",
      "RMSE : 87998995.978812 \n",
      "[-288147629.5321996, -52871124.68480726, -37009787.279365085, -330444529.2800454, -108385805.60385491, -153326261.58594108, -63445349.62176872, -39653343.513605446, -121603586.77505672, -29079118.576644, -15861337.405442182, -129534255.47777781, -31722674.81088436, -63445349.62176872, -21148449.873922907, -7930668.70272109, -66088905.85600908, -18504893.639682543, -10574224.936961453, -63445349.62176872, -18504893.639682543, -26435562.342403635, -26435562.342403635, -10574224.936961453, -79306687.0272109, -21148449.873922907, -13217781.171201818, -55514680.91904763, -21148449.873922907, -13217781.171201818, -2643556.2342403634, -68732462.09024945, -18504893.639682543, -15861337.405442182, -60801793.38752835, -31722674.81088436, -163900486.52290252, -34366231.045124725, -13217781.171201818, -44940455.982086174, -37009787.279365085, -161256930.28866217, -111029361.83809526, -100455136.9011338, -148039149.11746034, -111029361.83809526, -31722674.81088436, -74019574.55873019, -23792006.10816327, -10574224.936961453, -47584012.216326535, -37009787.279365085, -37009787.279365085, -42296899.74784581, -23792006.10816327, -79306687.0272109, -81950243.26145127, -66088905.85600908, -26435562.342403635, -84593799.49569163, -39653343.513605446, -142752036.6489796, -71376018.32448982]\n"
     ]
    }
   ],
   "source": [
    "y_pred = []\n",
    "rmse , y_pred = evaluate_algorithm(data,simple_linear_regression)\n",
    "print('RMSE : %3f ' %(rmse))\n",
    "print(y_pred)"
   ]
  },
  {
   "cell_type": "code",
   "execution_count": 52,
   "metadata": {},
   "outputs": [
    {
     "data": {
      "image/png": "[encoded data removed]",
      "text/plain": [
       "<Figure size 432x288 with 1 Axes>"
      ]
     },
     "metadata": {
      "needs_background": "light"
     },
     "output_type": "display_data"
    }
   ],
   "source": [
    "plt.scatter(df['X'],df['Y'])\n",
    "plt.plot([min(df['X']),max(df['X'])],[min(y_pred),max(y_pred)],color='red')\n",
    "plt.show()"
   ]
  },
  {
   "cell_type": "code",
   "execution_count": 56,
   "metadata": {},
   "outputs": [],
   "source": [
    "# Gradient Descent Estimation\n",
    "def Gradient_Descent(X,y,b1_current =0,b0_current=0,epochs=1000,learning_rate =0.0001):\n",
    "    N = float(len(y))\n",
    "    for i in range(epochs):\n",
    "        y_current = (b1_current *X) + b0_current\n",
    "        b1_gradient = -(2/N) * sum(X*(y-y_current))\n",
    "        b0_gradient = -(2/N) * sum(y-y_current)\n",
    "        b1_current = b1_current - (learning_rate * b1_gradient)\n",
    "        b0_current = b0_current - (learning_rate * b0_gradient)\n",
    "    return b0_current,b1_current"
   ]
  },
  {
   "cell_type": "code",
   "execution_count": 58,
   "metadata": {},
   "outputs": [
    {
     "name": "stdout",
     "output_type": "stream",
     "text": [
      "b0: 1.9974788477880756 b1: 3.802421618624299\n"
     ]
    }
   ],
   "source": [
    "b0,b1 = Gradient_Descent(df['X'],df['Y'])\n",
    "print(\"b0:\",b0,\"b1:\",b1)"
   ]
  },
  {
   "cell_type": "code",
   "execution_count": 59,
   "metadata": {},
   "outputs": [
    {
     "name": "stdout",
     "output_type": "stream",
     "text": [
      "[412.6590136592124, 74.24348960164976, 51.428959889903965, 473.4977595572012, 154.09434359276005, 218.73551110937314, 89.45317607614696, 55.23138150852826, 173.10645168588152, 40.02169503403107, 21.009586940909575, 184.51371654175443, 43.82411665265536, 89.45317607614696, 28.61443017815817, 9.602322085036674, 93.25559769477125, 24.812008559533872, 13.404743703660973, 89.45317607614696, 24.812008559533872, 36.21927341540677, 36.21927341540677, 13.404743703660973, 112.26770578789275, 28.61443017815817, 17.207165322285274, 78.04591122027406, 28.61443017815817, 17.207165322285274, 1.9974788477880756, 97.05801931339555, 24.812008559533872, 21.009586940909575, 85.65075445752265, 43.82411665265536, 233.9451975838703, 47.626538271279664, 17.207165322285274, 62.83622474577686, 51.428959889903965, 230.14277596524602, 157.89676521138435, 142.68707873688714, 211.13066787212452, 157.89676521138435, 43.82411665265536, 104.66286255064415, 32.41685179678247, 13.404743703660973, 66.63864636440115, 51.428959889903965, 51.428959889903965, 59.03380312715256, 32.41685179678247, 112.26770578789275, 116.07012740651705, 93.25559769477125, 36.21927341540677, 119.87254902514135, 55.23138150852826, 203.52582463487593, 100.86044093201986]\n"
     ]
    }
   ],
   "source": [
    "predictions =[]\n",
    "for x in df['X']:\n",
    "    yp = b0 +b1*x\n",
    "    predictions.append(yp)\n",
    "print(predictions)"
   ]
  },
  {
   "cell_type": "code",
   "execution_count": 62,
   "metadata": {},
   "outputs": [
    {
     "name": "stdout",
     "output_type": "stream",
     "text": [
      "RMSE : 37.610155 \n"
     ]
    }
   ],
   "source": [
    "rmse = rmse_metric(df['Y'],predictions)\n",
    "print('RMSE : %3f ' %(rmse))"
   ]
  },
  {
   "cell_type": "code",
   "execution_count": 63,
   "metadata": {},
   "outputs": [
    {
     "data": {
      "image/png": "[encoded data removed]",
      "text/plain": [
       "<Figure size 432x288 with 1 Axes>"
      ]
     },
     "metadata": {
      "needs_background": "light"
     },
     "output_type": "display_data"
    }
   ],
   "source": [
    "plt.scatter(df['X'],df['Y'])\n",
    "plt.plot([min(df['X']),max(df['X'])],[min(predictions),max(predictions)],color='red')\n",
    "plt.show()"
   ]
  },
  {
   "cell_type": "code",
   "execution_count": null,
   "metadata": {},
   "outputs": [],
   "source": []
  }
 ],
 "metadata": {
  "kernelspec": {
   "display_name": "Python 3",
   "language": "python",
   "name": "python3"
  },
  "language_info": {
   "codemirror_mode": {
    "name": "ipython",
    "version": 3
   },
   "file_extension": ".py",
   "mimetype": "text/x-python",
   "name": "python",
   "nbconvert_exporter": "python",
   "pygments_lexer": "ipython3",
   "version": "3.8.5"
  }
 },
 "nbformat": 4,
 "nbformat_minor": 4
}
