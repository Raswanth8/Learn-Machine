{
 "cells": [
  {
   "cell_type": "markdown",
   "metadata": {},
   "source": [
    "## Assignment 5\n",
    "\n",
    "#### Name : Raswanth S.R\n",
    "#### RollNum : CB.EN.U4CSE19648"
   ]
  },
  {
   "cell_type": "markdown",
   "metadata": {},
   "source": [
    "### Logistic Regression from scratch"
   ]
  },
  {
   "cell_type": "code",
   "execution_count": 2,
   "metadata": {},
   "outputs": [],
   "source": [
    "from math import exp"
   ]
  },
  {
   "cell_type": "code",
   "execution_count": 1,
   "metadata": {},
   "outputs": [],
   "source": [
    "import pandas as pd\n",
    "import numpy as np\n",
    "import seaborn as sns\n",
    "\n",
    "import matplotlib.pyplot as plt"
   ]
  },
  {
   "cell_type": "code",
   "execution_count": 15,
   "metadata": {},
   "outputs": [],
   "source": [
    "def prediction(row,coefficients):\n",
    "    yhat = coefficients[0]\n",
    "    for i in range(len(row)-1):\n",
    "        yhat += coefficients[i+1]*row[i]\n",
    "        return 1.0/(1.0 + exp(-yhat))"
   ]
  },
  {
   "cell_type": "code",
   "execution_count": 5,
   "metadata": {},
   "outputs": [],
   "source": [
    "dataset = [[2.7810836,2.550537003,0],\n",
    "          [3.39787721,1.85344221,0],\n",
    "          [3.06435211,3.003526711,0],\n",
    "          [7.62786431,2.75976412,1],\n",
    "          [5.33456783,2.08856321,1],\n",
    "          [6.92256743,1.77852246,1],\n",
    "          [8.53736213,-0.24207266,1]]"
   ]
  },
  {
   "cell_type": "code",
   "execution_count": 6,
   "metadata": {},
   "outputs": [],
   "source": [
    "coef = [-0.406605464,0.852573316,-1.10474629]"
   ]
  },
  {
   "cell_type": "code",
   "execution_count": 9,
   "metadata": {},
   "outputs": [
    {
     "name": "stdout",
     "output_type": "stream",
     "text": [
      "Expected= 0.000000,Predicted= 0.877016 [1] \n",
      "Expected= 0.000000,Predicted= 0.923461 [1] \n",
      "Expected= 0.000000,Predicted= 0.900785 [1] \n",
      "Expected= 1.000000,Predicted= 0.997755 [1] \n",
      "Expected= 1.000000,Predicted= 0.984350 [1] \n",
      "Expected= 1.000000,Predicted= 0.995911 [1] \n",
      "Expected= 1.000000,Predicted= 0.998965 [1] \n"
     ]
    }
   ],
   "source": [
    "for row in dataset:\n",
    "    yhat = prediction(row,coef)\n",
    "    print(\"Expected= %3f,Predicted= %3f [%d] \" % (row[-1],yhat,round(yhat)))"
   ]
  },
  {
   "cell_type": "code",
   "execution_count": 18,
   "metadata": {},
   "outputs": [],
   "source": [
    "def coeff_sgd(train,l_rate,_n_epoch):\n",
    "    coef = [0.0 for i in range(len(train[0]))]\n",
    "    for epoch in range(n_epoch):\n",
    "        sum_error = 0\n",
    "        for row in train:\n",
    "            y_hat = prediction(row,coef)\n",
    "            error = row[-1] - yhat\n",
    "            sum_error += error **2\n",
    "            coef[0] = coef[0] + l_rate * error * y_hat * (1.0 - y_hat)\n",
    "            for i in range(len(row)-1):\n",
    "                coef[i+1] = coef[i+1] + l_rate * error * y_hat * (1.0 - y_hat) * row[i]\n",
    "            print('>epoch=%d, lrate= %3f, error = %3f'% (epoch,l_rate,sum_error))\n",
    "        return coef"
   ]
  },
  {
   "cell_type": "code",
   "execution_count": 19,
   "metadata": {},
   "outputs": [
    {
     "name": "stdout",
     "output_type": "stream",
     "text": [
      ">epoch=0, lrate= 0.300000, error = 0.997931\n",
      ">epoch=0, lrate= 0.300000, error = 1.995861\n",
      ">epoch=0, lrate= 0.300000, error = 2.993792\n",
      ">epoch=0, lrate= 0.300000, error = 2.993793\n",
      ">epoch=0, lrate= 0.300000, error = 2.993794\n",
      ">epoch=0, lrate= 0.300000, error = 2.993795\n",
      ">epoch=0, lrate= 0.300000, error = 2.993796\n",
      "[-0.18555028648075056, -0.5688165480673236, -0.44918669296557334]\n"
     ]
    }
   ],
   "source": [
    "dataset = [[2.7810836,2.550537003,0],\n",
    "          [3.39787721,1.85344221,0],\n",
    "          [3.06435211,3.003526711,0],\n",
    "          [7.62786431,2.75976412,1],\n",
    "          [5.33456783,2.08856321,1],\n",
    "          [6.92256743,1.77852246,1],\n",
    "          [8.53736213,-0.24207266,1]]\n",
    "l_rate = 0.3\n",
    "n_epoch = 100\n",
    "coef = coeff_sgd(dataset,l_rate,n_epoch)\n",
    "print(coef)"
   ]
  },
  {
   "cell_type": "code",
   "execution_count": 6,
   "metadata": {},
   "outputs": [
    {
     "ename": "NameError",
     "evalue": "name 'minmax_scaling' is not defined",
     "output_type": "error",
     "traceback": [
      "\u001b[1;31m---------------------------------------------------------------------------\u001b[0m",
      "\u001b[1;31mNameError\u001b[0m                                 Traceback (most recent call last)",
      "\u001b[1;32m<ipython-input-6-a05b54218472>\u001b[0m in \u001b[0;36m<module>\u001b[1;34m\u001b[0m\n\u001b[0;32m      1\u001b[0m \u001b[1;32mfrom\u001b[0m \u001b[0msklearn\u001b[0m\u001b[1;33m.\u001b[0m\u001b[0mpreprocessing\u001b[0m \u001b[1;32mimport\u001b[0m \u001b[0mMinMaxScaler\u001b[0m\u001b[1;33m\u001b[0m\u001b[1;33m\u001b[0m\u001b[0m\n\u001b[0;32m      2\u001b[0m \u001b[0ms1\u001b[0m \u001b[1;33m=\u001b[0m \u001b[0mpd\u001b[0m\u001b[1;33m.\u001b[0m\u001b[0mSeries\u001b[0m\u001b[1;33m(\u001b[0m\u001b[1;33m[\u001b[0m\u001b[1;36m10\u001b[0m\u001b[1;33m,\u001b[0m\u001b[1;36m50\u001b[0m\u001b[1;33m,\u001b[0m\u001b[1;36m20\u001b[0m\u001b[1;33m,\u001b[0m \u001b[1;36m25\u001b[0m\u001b[1;33m,\u001b[0m\u001b[1;36m10\u001b[0m\u001b[1;33m,\u001b[0m \u001b[1;36m45\u001b[0m\u001b[1;33m,\u001b[0m \u001b[1;36m60\u001b[0m\u001b[1;33m]\u001b[0m\u001b[1;33m)\u001b[0m\u001b[1;33m\u001b[0m\u001b[1;33m\u001b[0m\u001b[0m\n\u001b[1;32m----> 3\u001b[1;33m \u001b[0mminmax_scaling\u001b[0m\u001b[1;33m(\u001b[0m\u001b[1;33m[\u001b[0m\u001b[0ms1\u001b[0m\u001b[1;33m]\u001b[0m\u001b[1;33m)\u001b[0m\u001b[1;33m\u001b[0m\u001b[1;33m\u001b[0m\u001b[0m\n\u001b[0m",
      "\u001b[1;31mNameError\u001b[0m: name 'minmax_scaling' is not defined"
     ]
    }
   ],
   "source": [
    "from sklearn.preprocessing import MinMaxScaler\n",
    "s1 = pd.Series([10,50,20, 25,10, 45, 60])\n",
    "minmax_scaling([s1])"
   ]
  },
  {
   "cell_type": "code",
   "execution_count": 21,
   "metadata": {},
   "outputs": [
    {
     "name": "stdout",
     "output_type": "stream",
     "text": [
      "Expected= 0.000000,Predicted= 0.145856 [0] \n",
      "Expected= 0.000000,Predicted= 0.107329 [0] \n",
      "Expected= 0.000000,Predicted= 0.126905 [0] \n",
      "Expected= 1.000000,Predicted= 0.010725 [0] \n",
      "Expected= 1.000000,Predicted= 0.038422 [0] \n",
      "Expected= 1.000000,Predicted= 0.015934 [0] \n",
      "Expected= 1.000000,Predicted= 0.006421 [0] \n"
     ]
    }
   ],
   "source": [
    "for row in dataset:\n",
    "    yhat = prediction(row,coef)\n",
    "    print(\"Expected= %3f,Predicted= %3f [%d] \" % (row[-1],yhat,round(yhat)))"
   ]
  }
 ],
 "metadata": {
  "kernelspec": {
   "display_name": "Python 3",
   "language": "python",
   "name": "python3"
  },
  "language_info": {
   "codemirror_mode": {
    "name": "ipython",
    "version": 3
   },
   "file_extension": ".py",
   "mimetype": "text/x-python",
   "name": "python",
   "nbconvert_exporter": "python",
   "pygments_lexer": "ipython3",
   "version": "3.8.5"
  }
 },
 "nbformat": 4,
 "nbformat_minor": 4
}
