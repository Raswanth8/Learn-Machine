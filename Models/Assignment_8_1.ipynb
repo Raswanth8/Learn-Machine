{
 "cells": [
  {
   "cell_type": "markdown",
   "metadata": {},
   "source": [
    "## Assignment 8\n",
    "\n",
    "#### Name : Raswanth S.R\n",
    "#### RollNum : CB.EN.U4CSE19648"
   ]
  },
  {
   "cell_type": "code",
   "execution_count": 22,
   "metadata": {},
   "outputs": [],
   "source": [
    "import pandas as pd\n",
    "import numpy as np\n",
    "import seaborn as sns\n",
    "\n",
    "import matplotlib.pyplot as plt"
   ]
  },
  {
   "cell_type": "code",
   "execution_count": 23,
   "metadata": {},
   "outputs": [
    {
     "data": {
      "text/html": [
       "<div>\n",
       "<style scoped>\n",
       "    .dataframe tbody tr th:only-of-type {\n",
       "        vertical-align: middle;\n",
       "    }\n",
       "\n",
       "    .dataframe tbody tr th {\n",
       "        vertical-align: top;\n",
       "    }\n",
       "\n",
       "    .dataframe thead th {\n",
       "        text-align: right;\n",
       "    }\n",
       "</style>\n",
       "<table border=\"1\" class=\"dataframe\">\n",
       "  <thead>\n",
       "    <tr style=\"text-align: right;\">\n",
       "      <th></th>\n",
       "      <th>sepal length (cm)</th>\n",
       "      <th>sepal width (cm)</th>\n",
       "      <th>petal length (cm)</th>\n",
       "      <th>petal width (cm)</th>\n",
       "      <th>target</th>\n",
       "    </tr>\n",
       "  </thead>\n",
       "  <tbody>\n",
       "    <tr>\n",
       "      <th>0</th>\n",
       "      <td>5.1</td>\n",
       "      <td>3.5</td>\n",
       "      <td>1.4</td>\n",
       "      <td>0.2</td>\n",
       "      <td>0</td>\n",
       "    </tr>\n",
       "    <tr>\n",
       "      <th>1</th>\n",
       "      <td>4.9</td>\n",
       "      <td>3.0</td>\n",
       "      <td>1.4</td>\n",
       "      <td>0.2</td>\n",
       "      <td>0</td>\n",
       "    </tr>\n",
       "    <tr>\n",
       "      <th>2</th>\n",
       "      <td>4.7</td>\n",
       "      <td>3.2</td>\n",
       "      <td>1.3</td>\n",
       "      <td>0.2</td>\n",
       "      <td>0</td>\n",
       "    </tr>\n",
       "    <tr>\n",
       "      <th>3</th>\n",
       "      <td>4.6</td>\n",
       "      <td>3.1</td>\n",
       "      <td>1.5</td>\n",
       "      <td>0.2</td>\n",
       "      <td>0</td>\n",
       "    </tr>\n",
       "    <tr>\n",
       "      <th>4</th>\n",
       "      <td>5.0</td>\n",
       "      <td>3.6</td>\n",
       "      <td>1.4</td>\n",
       "      <td>0.2</td>\n",
       "      <td>0</td>\n",
       "    </tr>\n",
       "  </tbody>\n",
       "</table>\n",
       "</div>"
      ],
      "text/plain": [
       "   sepal length (cm)  sepal width (cm)  petal length (cm)  petal width (cm)  \\\n",
       "0                5.1               3.5                1.4               0.2   \n",
       "1                4.9               3.0                1.4               0.2   \n",
       "2                4.7               3.2                1.3               0.2   \n",
       "3                4.6               3.1                1.5               0.2   \n",
       "4                5.0               3.6                1.4               0.2   \n",
       "\n",
       "   target  \n",
       "0       0  \n",
       "1       0  \n",
       "2       0  \n",
       "3       0  \n",
       "4       0  "
      ]
     },
     "execution_count": 23,
     "metadata": {},
     "output_type": "execute_result"
    }
   ],
   "source": [
    "from sklearn import datasets\n",
    "\n",
    "iris = datasets.load_iris()\n",
    "\n",
    "df = pd.DataFrame(data=iris.data, columns=iris.feature_names)\n",
    "df['target'] = iris.target\n",
    "df.head()"
   ]
  },
  {
   "cell_type": "code",
   "execution_count": 24,
   "metadata": {},
   "outputs": [],
   "source": [
    "X = df.drop('target', axis=1)\n",
    "y = df.target"
   ]
  },
  {
   "cell_type": "code",
   "execution_count": 25,
   "metadata": {},
   "outputs": [],
   "source": [
    "def dist(a, b, p=1):\n",
    "    \n",
    "    dim = len(a)\n",
    "    distance = 0\n",
    "    for d in range(dim):\n",
    "        distance += abs(a[d] - b[d])**p     \n",
    "    distance = distance**(1/p)\n",
    "    return distance"
   ]
  },
  {
   "cell_type": "code",
   "execution_count": 26,
   "metadata": {},
   "outputs": [],
   "source": [
    "from sklearn.model_selection import train_test_split\n",
    "X_train, X_test, y_train, y_test = train_test_split(X, y, test_size=0.20,random_state=1)"
   ]
  },
  {
   "cell_type": "code",
   "execution_count": 27,
   "metadata": {},
   "outputs": [],
   "source": [
    "from sklearn.preprocessing import StandardScaler\n",
    "scaler = StandardScaler()\n",
    "X_train = scaler.fit_transform(X_train)\n",
    "X_test = scaler.transform(X_test)"
   ]
  },
  {
   "cell_type": "code",
   "execution_count": 28,
   "metadata": {
    "scrolled": false
   },
   "outputs": [
    {
     "data": {
      "text/plain": [
       "array([[ 0.31553662, -0.04578885,  0.44767531,  0.23380268],\n",
       "       [ 2.2449325 , -0.04578885,  1.29769171,  1.39742892],\n",
       "       [-0.2873996 , -1.24028061,  0.05100098, -0.15407273],\n",
       "       [ 0.67729835, -0.52358555,  1.01435291,  1.13884531],\n",
       "       [-0.04622511, -0.52358555,  0.73101411,  1.52672073],\n",
       "       [-0.64916132,  1.62649961, -1.30902526, -1.31769898],\n",
       "       [-0.40798684, -1.71807731,  0.10766874,  0.10451088],\n",
       "       [-0.76974857,  0.90980456, -1.36569302, -1.31769898],\n",
       "       [ 0.79788559, -0.52358555,  0.44767531,  0.36309449],\n",
       "       [ 1.03906007, -1.24028061,  1.12768843,  0.7509699 ],\n",
       "       [ 1.15964732, -0.04578885,  0.95768515,  1.13884531],\n",
       "       [-0.89033581,  1.14870291, -1.36569302, -1.18840717],\n",
       "       [ 0.19494938, -1.95697567,  0.67434635,  0.36309449],\n",
       "       [ 0.5567111 , -0.2846872 ,  1.01435291,  0.7509699 ],\n",
       "       [ 0.91847283, -0.2846872 ,  0.44767531,  0.10451088],\n",
       "       [ 2.2449325 , -1.00138226,  1.75103379,  1.39742892],\n",
       "       [-0.16681235,  1.86539796, -1.19568974, -1.18840717],\n",
       "       [-1.01092305,  1.38760126, -1.36569302, -1.31769898],\n",
       "       [-1.25209754, -0.04578885, -1.36569302, -1.18840717],\n",
       "       [-0.76974857, -0.76248391,  0.05100098,  0.23380268],\n",
       "       [-0.89033581,  0.90980456, -1.30902526, -1.31769898],\n",
       "       [-0.40798684,  1.14870291, -1.42236078, -1.31769898],\n",
       "       [ 2.2449325 ,  1.86539796,  1.63769827,  1.26813712],\n",
       "       [ 1.28023456,  0.1931095 ,  0.90101739,  1.13884531],\n",
       "       [ 1.76258353, -0.2846872 ,  1.41102723,  0.7509699 ],\n",
       "       [ 0.67729835, -0.52358555,  1.01435291,  1.26813712],\n",
       "       [ 0.43612386, -0.52358555,  0.56101083,  0.7509699 ],\n",
       "       [ 0.19494938,  0.90980456,  0.39100755,  0.49238629],\n",
       "       [ 2.2449325 , -0.52358555,  1.63769827,  1.00955351],\n",
       "       [-0.16681235, -0.04578885,  0.22100426, -0.02478093],\n",
       "       [-1.25209754,  0.90980456, -1.2523575 , -1.31769898],\n",
       "       [-0.16681235, -1.24028061,  0.67434635,  1.00955351],\n",
       "       [ 0.5567111 , -0.76248391,  0.61767859,  0.7509699 ],\n",
       "       [-1.25209754, -0.04578885, -1.36569302, -1.44699078],\n",
       "       [-1.37268478,  0.43200785, -1.42236078, -1.31769898],\n",
       "       [ 0.79788559, -0.04578885,  1.12768843,  1.26813712],\n",
       "       [-1.49327202,  0.90980456, -1.36569302, -1.18840717],\n",
       "       [ 0.31553662, -0.04578885,  0.61767859,  0.7509699 ],\n",
       "       [ 0.79788559,  0.43200785,  0.73101411,  1.00955351],\n",
       "       [ 1.03906007,  0.1931095 ,  0.33433978,  0.23380268],\n",
       "       [-0.16681235, -0.52358555,  0.39100755,  0.10451088],\n",
       "       [ 1.03906007,  0.6709062 ,  1.07102067,  1.65601253],\n",
       "       [ 0.19494938, -0.04578885,  0.56101083,  0.7509699 ],\n",
       "       [-0.89033581,  1.86539796, -1.2523575 , -1.31769898],\n",
       "       [ 0.19494938, -1.95697567,  0.10766874, -0.28336454],\n",
       "       [ 0.67729835, -0.2846872 ,  0.27767202,  0.10451088],\n",
       "       [ 0.79788559, -0.04578885,  0.95768515,  0.7509699 ],\n",
       "       [-1.01092305, -1.71807731, -0.28900558, -0.28336454],\n",
       "       [ 0.5567111 ,  0.6709062 ,  1.24102395,  1.65601253],\n",
       "       [-0.40798684, -1.24028061,  0.10766874,  0.10451088],\n",
       "       [-0.52857408,  1.62649961, -1.30902526, -1.31769898],\n",
       "       [-1.13151029,  0.1931095 , -1.30902526, -1.31769898],\n",
       "       [-0.76974857,  2.58209302, -1.30902526, -1.44699078],\n",
       "       [ 1.03906007,  0.6709062 ,  1.07102067,  1.13884531],\n",
       "       [-1.73444651, -0.04578885, -1.42236078, -1.31769898],\n",
       "       [ 0.19494938, -0.76248391,  0.73101411,  0.49238629],\n",
       "       [ 0.67729835, -0.76248391,  0.84434963,  0.8802617 ],\n",
       "       [ 0.07436213, -0.04578885,  0.73101411,  0.7509699 ],\n",
       "       [-0.76974857,  1.14870291, -1.30902526, -1.31769898],\n",
       "       [-0.89033581,  0.6709062 , -1.19568974, -0.92982356],\n",
       "       [-0.04622511, -0.76248391,  0.1643365 , -0.28336454],\n",
       "       [-1.13151029,  0.1931095 , -1.30902526, -1.44699078],\n",
       "       [ 1.88317077, -0.52358555,  1.29769171,  0.8802617 ],\n",
       "       [ 0.43612386, -0.2846872 ,  0.27767202,  0.10451088],\n",
       "       [ 2.12434526, -0.04578885,  1.58103051,  1.13884531],\n",
       "       [ 1.03906007, -0.04578885,  0.78768187,  1.39742892],\n",
       "       [ 0.5567111 , -1.71807731,  0.33433978,  0.10451088],\n",
       "       [ 0.43612386,  0.90980456,  0.90101739,  1.39742892],\n",
       "       [ 1.64199629,  1.38760126,  1.29769171,  1.65601253],\n",
       "       [-0.2873996 , -0.2846872 , -0.1190023 ,  0.10451088],\n",
       "       [-0.16681235,  3.29878808, -1.30902526, -1.05911537],\n",
       "       [-0.04622511, -0.76248391,  0.05100098, -0.02478093],\n",
       "       [-1.61385927, -1.71807731, -1.42236078, -1.18840717],\n",
       "       [-0.40798684, -1.47917896, -0.00566678, -0.15407273],\n",
       "       [ 1.28023456,  0.1931095 ,  0.61767859,  0.36309449],\n",
       "       [-1.01092305,  0.90980456, -1.2523575 , -1.05911537],\n",
       "       [ 1.15964732, -0.52358555,  0.56101083,  0.23380268],\n",
       "       [-1.01092305,  1.14870291, -1.2523575 , -0.80053176],\n",
       "       [-1.25209754,  0.90980456, -1.08235422, -1.31769898],\n",
       "       [ 0.5567111 ,  0.90980456,  1.01435291,  1.52672073],\n",
       "       [-0.2873996 , -0.52358555,  0.61767859,  1.00955351],\n",
       "       [ 1.15964732,  0.43200785,  1.18435619,  1.39742892],\n",
       "       [-1.01092305,  0.6709062 , -1.36569302, -1.31769898],\n",
       "       [-0.89033581,  1.62649961, -1.30902526, -1.05911537],\n",
       "       [ 0.07436213,  0.43200785,  0.56101083,  0.7509699 ],\n",
       "       [-1.49327202,  0.1931095 , -1.30902526, -1.31769898],\n",
       "       [-0.04622511, -0.76248391,  0.73101411,  0.8802617 ],\n",
       "       [-1.25209754,  0.1931095 , -1.2523575 , -1.31769898],\n",
       "       [ 0.79788559, -0.04578885,  0.78768187,  1.00955351],\n",
       "       [-1.13151029, -1.24028061,  0.39100755,  0.62167809],\n",
       "       [-1.49327202,  0.43200785, -1.36569302, -1.31769898],\n",
       "       [ 0.67729835,  0.43200785,  0.84434963,  1.39742892],\n",
       "       [-1.85503375, -0.04578885, -1.5356963 , -1.44699078],\n",
       "       [-0.2873996 , -0.04578885,  0.1643365 ,  0.10451088],\n",
       "       [-1.73444651, -0.2846872 , -1.36569302, -1.31769898],\n",
       "       [-0.40798684, -1.47917896, -0.06233454, -0.28336454],\n",
       "       [-1.01092305, -2.43477237, -0.17567006, -0.28336454],\n",
       "       [-0.89033581,  1.14870291, -1.36569302, -1.31769898],\n",
       "       [-1.13151029, -0.04578885, -1.36569302, -1.31769898],\n",
       "       [-1.13151029, -1.47917896, -0.28900558, -0.28336454],\n",
       "       [-1.49327202,  1.38760126, -1.59236406, -1.31769898],\n",
       "       [ 0.07436213, -0.04578885,  0.22100426,  0.36309449],\n",
       "       [ 0.31553662, -0.2846872 ,  0.50434307,  0.23380268],\n",
       "       [-1.01092305,  0.90980456, -1.30902526, -1.31769898],\n",
       "       [ 1.03906007,  0.1931095 ,  0.50434307,  0.36309449],\n",
       "       [-0.16681235, -0.2846872 ,  0.22100426,  0.10451088],\n",
       "       [ 0.43612386, -1.95697567,  0.39100755,  0.36309449],\n",
       "       [ 1.4008218 ,  0.43200785,  0.50434307,  0.23380268],\n",
       "       [-0.04622511, -0.76248391,  0.73101411,  0.8802617 ],\n",
       "       [-0.52857408,  0.90980456, -1.19568974, -1.31769898],\n",
       "       [-1.01092305, -0.04578885, -1.2523575 , -1.31769898],\n",
       "       [ 0.31553662, -1.00138226,  1.01435291,  0.23380268],\n",
       "       [ 0.31553662, -0.52358555,  0.10766874,  0.10451088],\n",
       "       [ 1.64199629, -0.04578885,  1.12768843,  0.49238629],\n",
       "       [-0.16681235, -1.00138226, -0.17567006, -0.28336454],\n",
       "       [ 0.5567111 , -0.52358555,  0.73101411,  0.36309449],\n",
       "       [ 0.67729835,  0.1931095 ,  0.95768515,  0.7509699 ],\n",
       "       [ 0.5567111 , -1.24028061,  0.61767859,  0.36309449],\n",
       "       [ 1.03906007,  0.1931095 ,  1.01435291,  1.52672073],\n",
       "       [-1.13151029,  1.38760126, -1.36569302, -1.44699078]])"
      ]
     },
     "execution_count": 28,
     "metadata": {},
     "output_type": "execute_result"
    }
   ],
   "source": [
    "X_train"
   ]
  },
  {
   "cell_type": "code",
   "execution_count": 29,
   "metadata": {},
   "outputs": [
    {
     "data": {
      "text/plain": [
       "array([[-0.04622511,  2.34319467, -1.47902854, -1.31769898],\n",
       "       [-0.89033581, -1.24028061, -0.45900886, -0.15407273],\n",
       "       [ 0.91847283, -0.04578885,  0.33433978,  0.23380268],\n",
       "       [-0.52857408,  2.10429632, -1.42236078, -1.05911537],\n",
       "       [ 2.48610699,  1.86539796,  1.46769499,  1.00955351],\n",
       "       [ 0.5567111 ,  0.6709062 ,  0.50434307,  0.49238629],\n",
       "       [ 1.28023456,  0.1931095 ,  0.73101411,  1.39742892],\n",
       "       [-0.89033581,  1.86539796, -1.08235422, -1.05911537],\n",
       "       [-1.37268478,  0.43200785, -1.2523575 , -1.31769898],\n",
       "       [ 1.28023456,  0.43200785,  1.07102067,  1.39742892],\n",
       "       [-0.2873996 , -0.76248391,  0.22100426,  0.10451088],\n",
       "       [-0.52857408,  2.10429632, -1.19568974, -1.05911537],\n",
       "       [ 1.52140905, -0.04578885,  1.18435619,  1.13884531],\n",
       "       [ 0.67729835,  0.43200785,  0.39100755,  0.36309449],\n",
       "       [ 0.19494938, -0.2846872 ,  0.39100755,  0.36309449],\n",
       "       [-1.73444651,  0.43200785, -1.42236078, -1.31769898],\n",
       "       [-0.04622511, -1.00138226,  0.10766874, -0.02478093],\n",
       "       [-0.2873996 , -0.04578885,  0.39100755,  0.36309449],\n",
       "       [-0.52857408,  0.90980456, -1.30902526, -1.05911537],\n",
       "       [-1.01092305,  0.43200785, -1.47902854, -1.31769898],\n",
       "       [-0.40798684, -1.00138226,  0.33433978, -0.02478093],\n",
       "       [-0.52857408, -0.04578885,  0.39100755,  0.36309449],\n",
       "       [ 1.03906007, -0.04578885,  0.67434635,  0.62167809],\n",
       "       [-1.01092305,  1.14870291, -1.42236078, -1.18840717],\n",
       "       [ 1.64199629,  0.43200785,  1.24102395,  0.7509699 ],\n",
       "       [-0.16681235, -0.52358555,  0.1643365 ,  0.10451088],\n",
       "       [-0.40798684,  2.82099137, -1.36569302, -1.31769898],\n",
       "       [-0.89033581,  1.86539796, -1.30902526, -1.18840717],\n",
       "       [ 0.31553662, -0.52358555,  0.50434307, -0.02478093],\n",
       "       [ 0.5567111 , -1.24028061,  0.67434635,  0.8802617 ]])"
      ]
     },
     "execution_count": 29,
     "metadata": {},
     "output_type": "execute_result"
    }
   ],
   "source": [
    "X_test"
   ]
  },
  {
   "cell_type": "code",
   "execution_count": 30,
   "metadata": {},
   "outputs": [],
   "source": [
    "def knn_predict(X_train, X_test, y_train, y_test, k, p):\n",
    "    \n",
    "    from collections import Counter\n",
    "    y_pred_test = []\n",
    "\n",
    "    for test_point in X_test:\n",
    "        distances = []\n",
    "        for train_point in X_train:\n",
    "            distance = dist(test_point, train_point, p=p)\n",
    "            distances.append(distance)\n",
    "        df_dists = pd.DataFrame(data=distances, columns=['dist'], \n",
    "                                index=y_train.index)\n",
    "        df_nearest = df_dists.sort_values(by=['dist'], axis=0)[:k]\n",
    "        counter = Counter(y_train[df_nearest.index])\n",
    "        prediction = counter.most_common()[0][0]\n",
    "        y_pred_test.append(prediction)\n",
    "        \n",
    "    return y_pred_test"
   ]
  },
  {
   "cell_type": "code",
   "execution_count": 31,
   "metadata": {},
   "outputs": [],
   "source": [
    "y_pred_test = knn_predict(X_train, X_test, y_train, y_test, k=5, p=1)"
   ]
  },
  {
   "cell_type": "code",
   "execution_count": 32,
   "metadata": {},
   "outputs": [
    {
     "data": {
      "text/plain": [
       "[0,\n",
       " 1,\n",
       " 1,\n",
       " 0,\n",
       " 2,\n",
       " 1,\n",
       " 2,\n",
       " 0,\n",
       " 0,\n",
       " 2,\n",
       " 1,\n",
       " 0,\n",
       " 2,\n",
       " 1,\n",
       " 1,\n",
       " 0,\n",
       " 1,\n",
       " 1,\n",
       " 0,\n",
       " 0,\n",
       " 1,\n",
       " 1,\n",
       " 2,\n",
       " 0,\n",
       " 2,\n",
       " 1,\n",
       " 0,\n",
       " 0,\n",
       " 1,\n",
       " 2]"
      ]
     },
     "execution_count": 32,
     "metadata": {},
     "output_type": "execute_result"
    }
   ],
   "source": [
    "y_pred_test"
   ]
  },
  {
   "cell_type": "code",
   "execution_count": 33,
   "metadata": {},
   "outputs": [
    {
     "data": {
      "text/plain": [
       "0.9666666666666667"
      ]
     },
     "execution_count": 33,
     "metadata": {},
     "output_type": "execute_result"
    }
   ],
   "source": [
    "from sklearn.metrics import accuracy_score\n",
    "accuracy_score(y_test, y_pred_test)"
   ]
  },
  {
   "cell_type": "code",
   "execution_count": 36,
   "metadata": {},
   "outputs": [],
   "source": [
    "from sklearn.metrics import confusion_matrix\n",
    "cm = confusion_matrix(y_test, y_pred_test)"
   ]
  },
  {
   "cell_type": "code",
   "execution_count": 37,
   "metadata": {},
   "outputs": [
    {
     "data": {
      "text/plain": [
       "Text(69.0, 0.5, 'Truth')"
      ]
     },
     "execution_count": 37,
     "metadata": {},
     "output_type": "execute_result"
    },
    {
     "data": {
      "image/png": "[encoded data removed]",
      "text/plain": [
       "<Figure size 720x504 with 2 Axes>"
      ]
     },
     "metadata": {
      "needs_background": "light"
     },
     "output_type": "display_data"
    }
   ],
   "source": [
    "plt.figure(figsize=(10,7))\n",
    "sns.heatmap(cm,annot=True)\n",
    "plt.xlabel(\"Predicted\")\n",
    "plt.ylabel(\"Truth\")"
   ]
  },
  {
   "cell_type": "code",
   "execution_count": 38,
   "metadata": {},
   "outputs": [
    {
     "name": "stdout",
     "output_type": "stream",
     "text": [
      "              precision    recall  f1-score   support\n",
      "\n",
      "           0       1.00      1.00      1.00        11\n",
      "           1       1.00      0.92      0.96        13\n",
      "           2       0.86      1.00      0.92         6\n",
      "\n",
      "    accuracy                           0.97        30\n",
      "   macro avg       0.95      0.97      0.96        30\n",
      "weighted avg       0.97      0.97      0.97        30\n",
      "\n"
     ]
    }
   ],
   "source": [
    "from sklearn.metrics import classification_report\n",
    "print(classification_report(y_test,y_pred_test))"
   ]
  }
 ],
 "metadata": {
  "kernelspec": {
   "display_name": "Python 3",
   "language": "python",
   "name": "python3"
  },
  "language_info": {
   "codemirror_mode": {
    "name": "ipython",
    "version": 3
   },
   "file_extension": ".py",
   "mimetype": "text/x-python",
   "name": "python",
   "nbconvert_exporter": "python",
   "pygments_lexer": "ipython3",
   "version": "3.8.5"
  }
 },
 "nbformat": 4,
 "nbformat_minor": 4
}
